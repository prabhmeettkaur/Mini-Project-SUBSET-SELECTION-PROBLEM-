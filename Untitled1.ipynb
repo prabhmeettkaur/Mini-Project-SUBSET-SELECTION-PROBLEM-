{
  "nbformat": 4,
  "nbformat_minor": 0,
  "metadata": {
    "colab": {
      "provenance": [],
      "authorship_tag": "ABX9TyMOxhM7vNVjSRfzfEB1yr48",
      "include_colab_link": true
    },
    "kernelspec": {
      "name": "python3",
      "display_name": "Python 3"
    },
    "language_info": {
      "name": "python"
    }
  },
  "cells": [
    {
      "cell_type": "markdown",
      "metadata": {
        "id": "view-in-github",
        "colab_type": "text"
      },
      "source": [
        "<a href=\"https://colab.research.google.com/github/prabhmeettkaur/Mini-Project-SUBSET-SELECTION-PROBLEM-/blob/main/Untitled1.ipynb\" target=\"_parent\"><img src=\"https://colab.research.google.com/assets/colab-badge.svg\" alt=\"Open In Colab\"/></a>"
      ]
    },
    {
      "cell_type": "code",
      "execution_count": 2,
      "metadata": {
        "colab": {
          "base_uri": "https://localhost:8080/"
        },
        "id": "IwPSRA1WzKFM",
        "outputId": "69f7e6c0-8cf8-4ee3-99a7-ef782b5e3358"
      },
      "outputs": [
        {
          "output_type": "stream",
          "name": "stdout",
          "text": [
            "(6, -9, 3, -2, 2)\n",
            "(7, -5, -7, 2, 3)\n",
            "(-8, -7, 7, -3, 11)\n",
            "(2, -12, 9, 7, -6)\n",
            "(2, 6, -12, 9, -5)\n",
            "(9, -6, -7, 7, -3)\n",
            "(-3, -12, 11, 3, 1)\n",
            "(7, -3, -6, 9, -7)\n",
            "(3, -3, 2, -8, 6)\n",
            "(-4, 9, 6, -6, -5)\n",
            "(7, 2, -6, 9, -12)\n",
            "(6, 7, -7, -8, 2)\n",
            "(1, 6, 7, -12, -2)\n",
            "(6, 2, -3, -8, 3)\n",
            "(-5, 1, 11, 2, -9)\n",
            "(-5, 1, 9, -2, -3)\n",
            "(11, -12, -3, 1, 3)\n",
            "(-6, 9, 3, -12, 6)\n",
            "(3, -7, -9, 2, 11)\n",
            "(-2, 7, -3, -5, 3)\n",
            "(9, -12, -6, -2, 11)\n",
            "(1, -9, 9, 11, -12)\n",
            "(-8, 1, -6, 2, 11)\n",
            "(-7, -4, -9, 11, 9)\n",
            "(-6, -3, 7, 6, -4)\n",
            "\n",
            "Total Sets:  25 \n",
            "\n"
          ]
        },
        {
          "output_type": "stream",
          "name": "stderr",
          "text": [
            "<ipython-input-2-482cd4ae63fa>:11: DeprecationWarning: Sampling from a set deprecated\n",
            "since Python 3.9 and will be removed in a subsequent version.\n",
            "  Chromosome = r.sample(Set,SetSize)\n"
          ]
        }
      ],
      "source": [
        "#Subset Selection Problem\n",
        "#Finding Subsets from a set of numbers whose sum is zero with constraint subset size must be 5 \n",
        "import random as r\n",
        "Set         = set([-12, -3, -6, 7, 2, -2, 6, 3, 9, -7, -5, -8, 1, 11, -9, -4])\n",
        "SetSize     = 5\n",
        "ResultList  = set()    #list of sets whose sum is zero\n",
        "Iterations  = 1000 \n",
        "\n",
        "for i in range(Iterations):  #loop till 1000 iterations \n",
        "    # Select number of elements from Set\n",
        "    Chromosome = r.sample(Set,SetSize)\n",
        "    \n",
        "    # Sum the number of elements in the Chromosome\n",
        "    if sum(Chromosome) == 0:\n",
        "        ResultList.add(tuple(Chromosome))\n",
        "\n",
        "for r in ResultList: #printing the sets\n",
        "\t  print (r)\n",
        "\n",
        "# Print total sets\n",
        "print (\"\\nTotal Sets: \", len(ResultList), \"\\n\")"
      ]
    },
    {
      "cell_type": "code",
      "source": [
        "#Sorting the elements in Problem -01\n",
        "import random as r\n",
        "Set         = set([-12, -3, -6, 7, 2, -2, 6, 3, 9, -7, -5, -8, 1, 11, -9, -4])\n",
        "SetSize     = 5\n",
        "ResultList  = set()    #list of sets whose sum is zero\n",
        "Iterations  = 1000 \n",
        "\n",
        "for i in range(Iterations):   #Loop\n",
        "    Chromosome = r.sample(Set,SetSize)\n",
        "    Chromosome.sort()\n",
        "    \n",
        "    if sum(Chromosome) == 0:\n",
        "        ResultList.add(tuple(Chromosome))\n",
        "\n",
        "for r in ResultList:\n",
        "\tprint (r)\n",
        "\n",
        "# Print total sets\n",
        "print (\"\\nTotal Sets: \", len(ResultList), \"\\n\")"
      ],
      "metadata": {
        "colab": {
          "base_uri": "https://localhost:8080/"
        },
        "id": "CuIneVIcz_YB",
        "outputId": "9254daed-f1bf-4a0f-c1ce-5a34121fdea9"
      },
      "execution_count": 3,
      "outputs": [
        {
          "output_type": "stream",
          "name": "stdout",
          "text": [
            "(-12, -3, 2, 6, 7)\n",
            "(-12, -6, 3, 6, 9)\n",
            "(-9, -3, 2, 3, 7)\n",
            "(-8, -7, -3, 7, 11)\n",
            "(-5, -4, 1, 2, 6)\n",
            "(-7, -4, 1, 3, 7)\n",
            "(-9, -7, -4, 9, 11)\n",
            "(-6, -4, 1, 3, 6)\n",
            "(-7, -5, 2, 3, 7)\n",
            "(-7, -3, 1, 2, 7)\n",
            "(-9, -6, -3, 7, 11)\n",
            "(-7, -4, -2, 2, 11)\n",
            "(-8, -2, 1, 3, 6)\n",
            "(-8, -6, 1, 2, 11)\n",
            "(-4, -3, -2, 2, 7)\n",
            "(-9, -5, 1, 6, 7)\n",
            "(-7, -3, -2, 1, 11)\n",
            "(-12, -5, -3, 9, 11)\n",
            "(-5, -4, -3, 3, 9)\n",
            "(-9, -6, 2, 6, 7)\n",
            "(-7, -6, -4, 6, 11)\n",
            "(-7, -6, -5, 7, 11)\n",
            "(-8, -5, -3, 7, 9)\n",
            "\n",
            "Total Sets:  23 \n",
            "\n"
          ]
        },
        {
          "output_type": "stream",
          "name": "stderr",
          "text": [
            "<ipython-input-3-ad59920f7711>:10: DeprecationWarning: Sampling from a set deprecated\n",
            "since Python 3.9 and will be removed in a subsequent version.\n",
            "  Chromosome = r.sample(Set,SetSize)\n"
          ]
        }
      ]
    },
    {
      "cell_type": "code",
      "source": [
        "#Subset Selection Problem - 02\n",
        "#Finding Subsets from a set of numbers whose sum is zero with constraint subset size must be 3 to 6 only \n",
        "import random as r\n",
        "Set         = set([-12, -3, -6, 7, 2, -2, 6, 3, 9, -7, -5, -8, 1, 11, -9, -4])\n",
        "SetLB       = 3\n",
        "SetUB       = 6\n",
        "ResultList  = set()    #list of sets whose sum is zero\n",
        "Iterations  = 1000\n",
        "for i in range(Iterations):\n",
        "    SetSize = r.randint(SetLB,SetUB)   # Select set size randomly\n",
        "    Chromosome = r.sample(Set,SetSize)  # Select number of elements from Set\n",
        "\n",
        "    # Sum the number of elements in the Chromosome\n",
        "    if sum(Chromosome) == 0:\n",
        "        ResultList.add(tuple(Chromosome))\n",
        "\n",
        "# Print all the sets whose sum is zero\n",
        "for r in ResultList:\n",
        "\tprint (r)\n",
        "\n",
        "# Print total sets\n",
        "print (\"\\nTotal Sets: \", len(ResultList))\n"
      ],
      "metadata": {
        "colab": {
          "base_uri": "https://localhost:8080/"
        },
        "id": "UifcMA_b1-hq",
        "outputId": "0a401205-749b-4b04-fc73-db70fe08c9a0"
      },
      "execution_count": 5,
      "outputs": [
        {
          "output_type": "stream",
          "name": "stdout",
          "text": [
            "(-3, 3, -8, -5, 11, 2)\n",
            "(7, -5, -2)\n",
            "(-4, 3, 6, -5)\n",
            "(6, -8, 2)\n",
            "(9, -3, -2, -4)\n",
            "(9, -12, -4, 7, -6, 6)\n",
            "(3, -2, -8, 7)\n",
            "(3, 1, -4)\n",
            "(3, 2, -5)\n",
            "(6, -4, -5, -6, -2, 11)\n",
            "(-12, 3, 9)\n",
            "(7, -2, 1, -9, -6, 9)\n",
            "(-2, -9, 9, 2)\n",
            "(-2, 7, -5)\n",
            "(6, -9, -6, 3, -5, 11)\n",
            "(11, -8, -9, 9, -6, 3)\n",
            "(2, 11, -6, -7)\n",
            "(2, -9, 7)\n",
            "(7, -9, 2)\n",
            "(9, -6, -3)\n",
            "(9, 6, -12, -3)\n",
            "(-6, -3, 9)\n",
            "(1, 11, -12)\n",
            "(-5, 9, -7, -9, 1, 11)\n",
            "(2, -3, 1)\n",
            "(3, -3, 1, -12, 11)\n",
            "(11, -9, 6, -8)\n",
            "(1, -9, -3, 11)\n",
            "(1, -7, 6, 9, -9)\n",
            "(-9, 2, -3, -6, 9, 7)\n",
            "(-9, 7, -8, 9, 1)\n",
            "(11, -3, -8)\n",
            "\n",
            "Total Sets:  32\n"
          ]
        },
        {
          "output_type": "stream",
          "name": "stderr",
          "text": [
            "<ipython-input-5-de28f70c3d97>:11: DeprecationWarning: Sampling from a set deprecated\n",
            "since Python 3.9 and will be removed in a subsequent version.\n",
            "  Chromosome = r.sample(Set,SetSize)  # Select number of elements from Set\n"
          ]
        }
      ]
    },
    {
      "cell_type": "code",
      "source": [
        "#sorting the elements  Problem - 01\n",
        "import random as r\n",
        "Set         = set([-12, -3, -6, 7, 2, -2, 6, 3, 9, -7, -5, -8, 1, 11, -9, -4])\n",
        "SetLB       = 3\n",
        "SetUB       = 6\n",
        "ResultList  = set()    #list of sets whose sum is zero\n",
        "Iterations  = 1000   # Number of Inerations\n",
        "for i in range(Iterations):\n",
        "    # Select set size randomly\n",
        "    SetSize = r.randint(SetLB,SetUB)\n",
        "\t\n",
        "    # Select number of elements from Set\n",
        "    Chromosome = r.sample(Set,SetSize)\n",
        "    Chromosome.sort()\n",
        "\n",
        "    # Sum the number of elements in the Chromosome\n",
        "    if sum(Chromosome) == 0:\n",
        "        ResultList.add(tuple(Chromosome))\n",
        "\n",
        "# Print all the sets whose sum is zero\n",
        "for r in ResultList:\n",
        "\tprint (r)\n",
        "\n",
        "# Print total sets\n",
        "print (\"\\nTotal Sets: \", len(ResultList))"
      ],
      "metadata": {
        "colab": {
          "base_uri": "https://localhost:8080/"
        },
        "id": "7NtQLOtu2ea7",
        "outputId": "a01bb41f-07da-48d5-f219-e3589b7d1542"
      },
      "execution_count": 6,
      "outputs": [
        {
          "output_type": "stream",
          "name": "stdout",
          "text": [
            "(-9, 2, 7)\n",
            "(-8, -4, 1, 11)\n",
            "(-12, -3, -2, 2, 6, 9)\n",
            "(-5, -4, 1, 2, 6)\n",
            "(-5, -4, -3, 1, 11)\n",
            "(-9, -6, -4, 3, 7, 9)\n",
            "(-6, -3, -2, 11)\n",
            "(-6, -4, 1, 2, 7)\n",
            "(-5, -4, 2, 7)\n",
            "(-12, 1, 11)\n",
            "(-7, -2, 1, 2, 6)\n",
            "(-7, -3, -2, 3, 9)\n",
            "(-12, -4, 7, 9)\n",
            "(-8, 1, 7)\n",
            "(-8, 2, 6)\n",
            "(-4, -2, 6)\n",
            "(-8, -6, 1, 2, 11)\n",
            "(-4, -3, -2, 2, 7)\n",
            "(-7, -4, 2, 9)\n",
            "(-6, -5, -4, 6, 9)\n",
            "(-9, -5, -2, 2, 3, 11)\n",
            "(-12, -7, 1, 7, 11)\n",
            "(-12, -7, 1, 3, 6, 9)\n",
            "(-9, 3, 6)\n",
            "(-5, -4, 9)\n",
            "\n",
            "Total Sets:  25\n"
          ]
        },
        {
          "output_type": "stream",
          "name": "stderr",
          "text": [
            "<ipython-input-6-219f463fe843>:13: DeprecationWarning: Sampling from a set deprecated\n",
            "since Python 3.9 and will be removed in a subsequent version.\n",
            "  Chromosome = r.sample(Set,SetSize)\n"
          ]
        }
      ]
    }
  ]
}